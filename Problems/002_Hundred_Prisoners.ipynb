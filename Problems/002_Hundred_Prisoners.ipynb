{
  "nbformat": 4,
  "nbformat_minor": 0,
  "metadata": {
    "colab": {
      "provenance": []
    },
    "kernelspec": {
      "name": "python3",
      "display_name": "Python 3"
    },
    "language_info": {
      "name": "python"
    }
  },
  "cells": [
    {
      "cell_type": "markdown",
      "source": [
        "#### Problem"
      ],
      "metadata": {
        "id": "4oDlLk7XykSi"
      }
    },
    {
      "cell_type": "markdown",
      "source": [
        "* 100 prisoners are in a prison, designated 1 to 100.\n",
        "* The warden sends them one by one to a room having 100 sealed boxes.\n",
        "* The sealed boxes have a card with a number on it: 1 to 100, no repetitions.\n",
        "* The prisoner can open 50 boxes at the maximum. \n",
        "* If all the prisoners have their respective numbers by the end, all are freed. If not, all are detained.\n",
        "* The prisoners can interact before, but not after the exercise.\n",
        "* What is the probability of all prisoners getting released?"
      ],
      "metadata": {
        "id": "OO8G2xgxypfi"
      }
    },
    {
      "cell_type": "markdown",
      "source": [
        "#### Strategy"
      ],
      "metadata": {
        "id": "N9UF8_rx2eus"
      }
    },
    {
      "cell_type": "markdown",
      "source": [
        "* Since the prisoners could talk beforehand, they could come up with the following plan.\n",
        "    * Every prisoner goes to his respective box and takes the card inside it.\n",
        "    * Then they go to the box that is designated with the number on the card.\n",
        "    * They repeat, till they have opened 50 boxes, or they have found their number."
      ],
      "metadata": {
        "id": "9WZtPnW92em4"
      }
    },
    {
      "cell_type": "markdown",
      "source": [
        "#### Solution"
      ],
      "metadata": {
        "id": "bOL23A7lzW7K"
      }
    },
    {
      "cell_type": "code",
      "execution_count": 6,
      "metadata": {
        "colab": {
          "base_uri": "https://localhost:8080/"
        },
        "id": "efek9eJ7vV07",
        "outputId": "776d40fe-27ec-42d0-b8a7-e45596631890"
      },
      "outputs": [
        {
          "output_type": "stream",
          "name": "stdout",
          "text": [
            "Release Probability : 0.31173\n"
          ]
        }
      ],
      "source": [
        "import random, numpy as np, pandas as pd\n",
        "\n",
        "class HundredPrisoners():\n",
        "\n",
        "    def __init__(self):\n",
        "\n",
        "        self.prisoner_count = 100\n",
        "        self.n_trials = 100_000\n",
        "\n",
        "        self.box_limit = self.prisoner_count // 2\n",
        "        self.numbers = list(range(1, self.prisoner_count + 1))\n",
        "\n",
        "\n",
        "    def calculate_success_probability(self):\n",
        "\n",
        "        self.positive_outcomes = 0\n",
        "        for _ in range(self.n_trials):\n",
        "            self.run_trial()\n",
        "            if self.prisoner_data.CardFoundInd.sum() == self.prisoner_count:\n",
        "                self.positive_outcomes += 1\n",
        "\n",
        "        self.probability = self.positive_outcomes / self.n_trials\n",
        "\n",
        "\n",
        "\n",
        "    def run_trial(self):\n",
        "        cards = random.sample(self.numbers, self.prisoner_count)\n",
        "        self.box_and_card_map = dict(zip(self.numbers, cards))\n",
        "        self.prisoner_data = pd.DataFrame({'PrisonerID': self.numbers, 'CardFoundInd': 0})\n",
        "\n",
        "        for _idx, _prisoner_id, _cardfound in self.prisoner_data.itertuples():\n",
        "            tmp_box = _prisoner_id\n",
        "            for _ in range(self.box_limit):\n",
        "                card = self.box_and_card_map.get(tmp_box)\n",
        "                if card == _prisoner_id:\n",
        "                    self.prisoner_data.loc[_idx, 'CardFoundInd'] = 1\n",
        "                    break\n",
        "                else:\n",
        "                    tmp_box = card\n",
        "            \n",
        "\n",
        "pris = HundredPrisoners()        \n",
        "pris.calculate_success_probability()\n",
        "print(f'Release Probability : {pris.probability:.5f}')"
      ]
    }
  ]
}