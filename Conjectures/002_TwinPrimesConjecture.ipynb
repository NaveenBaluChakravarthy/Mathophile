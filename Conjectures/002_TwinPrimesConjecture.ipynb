{
  "nbformat": 4,
  "nbformat_minor": 0,
  "metadata": {
    "colab": {
      "provenance": []
    },
    "kernelspec": {
      "name": "python3",
      "display_name": "Python 3"
    },
    "language_info": {
      "name": "python"
    }
  },
  "cells": [
    {
      "cell_type": "code",
      "source": [
        "N = 1_000"
      ],
      "metadata": {
        "id": "fIYc-9l3AuU1"
      },
      "execution_count": 18,
      "outputs": []
    },
    {
      "cell_type": "code",
      "execution_count": 20,
      "metadata": {
        "colab": {
          "base_uri": "https://localhost:8080/"
        },
        "id": "6w_mK4tcpdOc",
        "outputId": "a758ba82-1ae6-4eb1-8345-925daf981605"
      },
      "outputs": [
        {
          "output_type": "stream",
          "name": "stdout",
          "text": [
            "[(3, 5), (5, 7), (11, 13), (17, 19), (29, 31), (41, 43), (59, 61), (71, 73), (101, 103), (107, 109), (137, 139), (149, 151), (179, 181), (191, 193), (197, 199), (227, 229), (239, 241), (269, 271), (281, 283), (311, 313), (347, 349), (419, 421), (431, 433), (461, 463), (521, 523), (569, 571), (599, 601), (617, 619), (641, 643), (659, 661), (809, 811), (821, 823), (827, 829), (857, 859), (881, 883)]\n",
            "35\n"
          ]
        }
      ],
      "source": [
        "def is_prime(x):\n",
        "    if x == 1:\n",
        "        return 0\n",
        "    for i in range(2, (x // 2) + 1):\n",
        "        if x % i == 0:\n",
        "            return 0\n",
        "    else:\n",
        "        return x\n",
        "\n",
        "primes = [val for val in [is_prime(a) for a in range(1, N + 1)] if val]\n",
        "twin_primes = []\n",
        "for i in range(len(primes) - 1):\n",
        "    if primes[i + 1] - primes[i] == 2:\n",
        "        twin_primes.append((primes[i], primes[i + 1])) \n",
        "\n",
        "print(twin_primes)\n",
        "print(len(twin_primes))"
      ]
    }
  ]
}