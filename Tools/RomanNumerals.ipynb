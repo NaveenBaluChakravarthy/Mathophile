{
  "nbformat": 4,
  "nbformat_minor": 0,
  "metadata": {
    "colab": {
      "name": "RomanNumerals.ipynb",
      "provenance": [],
      "collapsed_sections": []
    },
    "kernelspec": {
      "name": "python3",
      "display_name": "Python 3"
    }
  },
  "cells": [
    {
      "cell_type": "code",
      "metadata": {
        "colab": {
          "base_uri": "https://localhost:8080/"
        },
        "id": "_MeH6BwgzH_a",
        "outputId": "907e2f79-cce4-440b-c99b-d7c2f993d733"
      },
      "source": [
        "Dic = {\n",
        "    1: 'I', \n",
        "    4: 'IV', \n",
        "    5: 'V', \n",
        "    9: 'IX', \n",
        "    10: 'X', \n",
        "    40: 'XL',\n",
        "    50: 'L', \n",
        "    90: 'XC', \n",
        "    100: 'C', \n",
        "    400: 'XD', \n",
        "    500: 'D', \n",
        "    900: 'CM', \n",
        "    1000: 'M'\n",
        "    }\n",
        "List = list(Dic.keys())[::-1]\n",
        "\n",
        "def roman(number):\n",
        "    rom = ''\n",
        "    for i in range(len(List)):\n",
        "        n = number // List[i]\n",
        "        if n != 0:\n",
        "            rom += Dic[List[i]] * n\n",
        "        number -= List[i] * n\n",
        "    return rom\n",
        "\n",
        "numlist = [i+1 for i in range(50)]\n",
        "for num in numlist:\n",
        "    if 1 <= num <= 3999:\n",
        "        print(f'Number : {num:02d} | Roman : {roman(num)}')"
      ],
      "execution_count": 49,
      "outputs": [
        {
          "output_type": "stream",
          "text": [
            "Number : 01 | Roman : I\n",
            "Number : 02 | Roman : II\n",
            "Number : 03 | Roman : III\n",
            "Number : 04 | Roman : IV\n",
            "Number : 05 | Roman : V\n",
            "Number : 06 | Roman : VI\n",
            "Number : 07 | Roman : VII\n",
            "Number : 08 | Roman : VIII\n",
            "Number : 09 | Roman : IX\n",
            "Number : 10 | Roman : X\n",
            "Number : 11 | Roman : XI\n",
            "Number : 12 | Roman : XII\n",
            "Number : 13 | Roman : XIII\n",
            "Number : 14 | Roman : XIV\n",
            "Number : 15 | Roman : XV\n",
            "Number : 16 | Roman : XVI\n",
            "Number : 17 | Roman : XVII\n",
            "Number : 18 | Roman : XVIII\n",
            "Number : 19 | Roman : XIX\n",
            "Number : 20 | Roman : XX\n",
            "Number : 21 | Roman : XXI\n",
            "Number : 22 | Roman : XXII\n",
            "Number : 23 | Roman : XXIII\n",
            "Number : 24 | Roman : XXIV\n",
            "Number : 25 | Roman : XXV\n",
            "Number : 26 | Roman : XXVI\n",
            "Number : 27 | Roman : XXVII\n",
            "Number : 28 | Roman : XXVIII\n",
            "Number : 29 | Roman : XXIX\n",
            "Number : 30 | Roman : XXX\n",
            "Number : 31 | Roman : XXXI\n",
            "Number : 32 | Roman : XXXII\n",
            "Number : 33 | Roman : XXXIII\n",
            "Number : 34 | Roman : XXXIV\n",
            "Number : 35 | Roman : XXXV\n",
            "Number : 36 | Roman : XXXVI\n",
            "Number : 37 | Roman : XXXVII\n",
            "Number : 38 | Roman : XXXVIII\n",
            "Number : 39 | Roman : XXXIX\n",
            "Number : 40 | Roman : XL\n",
            "Number : 41 | Roman : XLI\n",
            "Number : 42 | Roman : XLII\n",
            "Number : 43 | Roman : XLIII\n",
            "Number : 44 | Roman : XLIV\n",
            "Number : 45 | Roman : XLV\n",
            "Number : 46 | Roman : XLVI\n",
            "Number : 47 | Roman : XLVII\n",
            "Number : 48 | Roman : XLVIII\n",
            "Number : 49 | Roman : XLIX\n",
            "Number : 50 | Roman : L\n"
          ],
          "name": "stdout"
        }
      ]
    }
  ]
}