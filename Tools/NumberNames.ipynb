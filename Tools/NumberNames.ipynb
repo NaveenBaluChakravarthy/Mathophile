{
  "nbformat": 4,
  "nbformat_minor": 0,
  "metadata": {
    "colab": {
      "name": "NumberNames.ipynb",
      "provenance": [],
      "collapsed_sections": []
    },
    "kernelspec": {
      "name": "python3",
      "display_name": "Python 3"
    }
  },
  "cells": [
    {
      "cell_type": "code",
      "metadata": {
        "id": "drTqCvtdq57E",
        "colab_type": "code",
        "colab": {}
      },
      "source": [
        "# Global Variables\n",
        "Dic = {1: 'One ',\n",
        "       2: 'Two ',\n",
        "       3: 'Three ',\n",
        "       4: 'Four ',\n",
        "       5: 'Five ',\n",
        "       6: 'Six ',\n",
        "       7: 'Seven ',\n",
        "       8: 'Eight ',\n",
        "       9: 'Nine ',\n",
        "       10: 'Ten ',\n",
        "       11: 'Eleven ',\n",
        "       12: 'Twelve ',\n",
        "       13: 'Thirteen ',\n",
        "       14: 'Fourteen ',\n",
        "       15: 'Fifteen ',\n",
        "       16: 'Sixteen ',\n",
        "       17: 'Seventeen ',\n",
        "       18: 'Eighteen ',\n",
        "       19: 'Nineteen ', \n",
        "       20: 'Twenty ',\n",
        "       30: 'Thirty ',\n",
        "       40: 'Forty ',\n",
        "       50: 'Fifty ',\n",
        "       60: 'Sixty ',\n",
        "       70: 'Seventy ',\n",
        "       80: 'Eighty ',\n",
        "       90: 'Ninety ',\n",
        "       100: 'Hundred ',\n",
        "       1000: 'Thousand ',\n",
        "       1000000: 'Million ',\n",
        "       1000000000: 'Billion ',\n",
        "       1000000000000: 'Trillion ' \n",
        "       }\n",
        "digits = [1000000000000, 1000000000, 1000000, 1000]\n",
        "\n",
        "# Name Logic\n",
        "def subnamer(val):\n",
        "  wrd = ''\n",
        "  if 1 <= val <= 20:\n",
        "    wrd = Dic[val]\n",
        "  elif 21 <= val <= 99:\n",
        "    if val % 10 == 0:\n",
        "      wrd = Dic[val]\n",
        "    else:\n",
        "      wrd = Dic[val - (val % 10)] + Dic[val % 10]\n",
        "  elif 100 <= val <= 999:\n",
        "    if val % 100 == 0:\n",
        "      wrd = Dic[val // 100] + Dic[100]\n",
        "    elif val % 10 == 0:\n",
        "      wrd = Dic[val // 100] + Dic[100] + Dic[val % 100]\n",
        "    else:\n",
        "      valn = val % 100\n",
        "      if 1 <= valn <= 20:\n",
        "        wrd = Dic[val // 100] + Dic[100] + Dic[valn]\n",
        "      elif 21 <= valn <= 99:\n",
        "        if valn % 10 == 0:\n",
        "          wrd = Dic[valn]\n",
        "        else:\n",
        "          wrd = Dic[val // 100] + Dic[100] + Dic[valn - (valn % 10)] + Dic[valn % 10]\n",
        "  return wrd\n",
        "\n",
        "# Control Logic\n",
        "def namer(number):\n",
        "  word = ''\n",
        "  go = False\n",
        "  rem999 = 1\n",
        "  for digit in digits:\n",
        "    quo = number // digit\n",
        "    rem = number % digit\n",
        "    if quo != 0 and 0 <= rem <= 999:\n",
        "      rem999 = 0\n",
        "      word += subnamer(quo) + Dic[digit] + subnamer(rem)\n",
        "      break\n",
        "    elif quo != 0 and rem >= 1000:\n",
        "      word += subnamer(quo) + Dic[digit]\n",
        "      go = True\n",
        "    elif quo == 0 and 0 <= rem <= 999:\n",
        "      if rem999:\n",
        "        word += subnamer(rem)\n",
        "    elif quo == 0 and rem == 0:\n",
        "      word = 'Zero'\n",
        "    elif quo == 0 and rem >= 1000:\n",
        "      go = True\n",
        "    else:\n",
        "      print(f\"Problem at {number} : {word}\")\n",
        "    if not go:\n",
        "      break\n",
        "    number = number % digit\n",
        "  return word"
      ],
      "execution_count": null,
      "outputs": []
    },
    {
      "cell_type": "code",
      "metadata": {
        "id": "laIYj1sIEIlz",
        "colab_type": "code",
        "colab": {}
      },
      "source": [
        "# Random Testing\n",
        "numlist = []\n",
        "namelist = [] \n",
        "from random import randint\n",
        "for i in range(10):\n",
        "  numlist.append(randint(0, 100000))\n",
        "for numeral in numlist:\n",
        "  namelist.append(namer(numeral))\n",
        "for i in range(len(numlist)):\n",
        "  print(f\"Number : {numlist[i]:,d}\\nName : {namelist[i]}\")"
      ],
      "execution_count": null,
      "outputs": []
    },
    {
      "cell_type": "code",
      "metadata": {
        "id": "9W7i6UpqJjO0",
        "colab_type": "code",
        "colab": {
          "base_uri": "https://localhost:8080/",
          "height": 221
        },
        "outputId": "2f4a274c-87d9-442c-caaa-85d6bc2b0c4e"
      },
      "source": [
        "# Manual Trials\n",
        "print(\"Number Name Generator!\\nType x to quit\")\n",
        "while True:\n",
        "  try:\n",
        "    numstring = input(\"Number:\")\n",
        "    numeral = int(numstring)\n",
        "    print(f\"Number : {numeral:,d}\\nName : {namer(numeral)}\")\n",
        "  except ValueError:\n",
        "    if numstring.lower() == 'x':\n",
        "      break\n",
        "    else:\n",
        "      print(\"Please provide a valid number!\")"
      ],
      "execution_count": null,
      "outputs": [
        {
          "output_type": "stream",
          "text": [
            "Number Name Generator!\n",
            "Type x to quit\n",
            "Number:897\n",
            "Number : 897\n",
            "Name : Eight Hundred Ninety Seven \n",
            "Number:78965\n",
            "Number : 78,965\n",
            "Name : Seventy Eight Thousand Nine Hundred Sixty Five \n",
            "Number:345678\n",
            "Number : 345,678\n",
            "Name : Three Hundred Forty Five Thousand Six Hundred Seventy Eight \n",
            "Number:x\n"
          ],
          "name": "stdout"
        }
      ]
    }
  ]
}